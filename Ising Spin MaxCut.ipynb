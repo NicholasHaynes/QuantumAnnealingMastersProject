{
 "cells": [
  {
   "cell_type": "code",
   "execution_count": 16,
   "metadata": {},
   "outputs": [],
   "source": [
    "import numpy as np\n",
    "import random\n",
    "import json\n",
    "import ast\n",
    "from dwave.system import DWaveSampler, EmbeddingComposite"
   ]
  },
  {
   "cell_type": "code",
   "execution_count": 10,
   "metadata": {},
   "outputs": [],
   "source": [
    "def ParameterSaving(J,FileName):\n",
    "     with open(FileName, 'w') as f:\n",
    "        json.dump(J, f, indent=4)"
   ]
  },
  {
   "cell_type": "code",
   "execution_count": 30,
   "metadata": {},
   "outputs": [],
   "source": [
    "def CouplingSetReader(FileName):\n",
    "    with open(FileName, 'r') as f:\n",
    "        data = json.load(f)\n",
    "    \n",
    "    J = {ast.literal_eval(key): value for key, value in data.items()} # Convert string keys back to tuples\n",
    "    \n",
    "    return J\n"
   ]
  },
  {
   "cell_type": "code",
   "execution_count": null,
   "metadata": {},
   "outputs": [],
   "source": [
    "def JSetup(NumberOfQubits):\n",
    "    J = {} # Initialising the inter qubit coupling terms. A dictonary is used since its the format D-Wave uses. \n",
    "\n",
    "    for i in range(NumberOfQubits):\n",
    "        for j in range(i+1, NumberOfQubits): # Two for loops are used and the second starts from the current value of the last so I dont double count.\n",
    "            J[f\"({i},{j})\"] = random.uniform(-1, 0) # Picks a random number between -1 and 0, I previously made this just set every value to -1. \n",
    "    return J\n",
    "\n",
    "#JSetup(10)"
   ]
  },
  {
   "cell_type": "code",
   "execution_count": 37,
   "metadata": {},
   "outputs": [],
   "source": [
    "def ParameterSetup(NumberOfQubits, NumberOfSets):\n",
    "    for i in range(NumberOfSets):\n",
    "        J = JSetup(NumberOfQubits) # Generate J values using JSetup func.\n",
    "        Label = f'NOQ = {NumberOfQubits}, J Value Set - {i}' #Just makes a new title for my DataSet\n",
    "        ParameterSaving(J,Label)\n",
    "\n",
    "ParameterSetup(100, 5)"
   ]
  },
  {
   "cell_type": "code",
   "execution_count": 38,
   "metadata": {},
   "outputs": [],
   "source": [
    "def IsingSpinMaxCut(NumberOfQubits, NumberOfSets, NumberOfRuns):\n",
    "       h = [0] * NumberOfQubits\n",
    "\n",
    "       for i in range(NumberOfSets):\n",
    "        FileName = f'NOQ = {NumberOfQubits}, J Value Set - {i}'\n",
    "        TestLabel = f'NOQ = {NumberOfQubits}, J Value Set - {i}'\n",
    "        J =  CouplingSetReader(FileName)\n",
    "        qpu_advantage.sample_ising(h, J, num_reads=NumberOfRuns, label=TestLabel)\n",
    "    \n",
    "\n",
    "IsingSpinMaxCut(100,5,100)"
   ]
  }
 ],
 "metadata": {
  "kernelspec": {
   "display_name": "AnomalyDetectionSpace",
   "language": "python",
   "name": "python3"
  },
  "language_info": {
   "codemirror_mode": {
    "name": "ipython",
    "version": 3
   },
   "file_extension": ".py",
   "mimetype": "text/x-python",
   "name": "python",
   "nbconvert_exporter": "python",
   "pygments_lexer": "ipython3",
   "version": "3.11.5"
  }
 },
 "nbformat": 4,
 "nbformat_minor": 2
}
